{
 "cells": [
  {
   "cell_type": "code",
   "execution_count": 1,
   "metadata": {},
   "outputs": [],
   "source": [
    "import numpy as np\n",
    "import scipy.integrate\n",
    "from matplotlib import pyplot as plt\n",
    "import scipy.integrate"
   ]
  },
  {
   "cell_type": "code",
   "execution_count": 2,
   "metadata": {},
   "outputs": [],
   "source": [
    "#Cosmology\n",
    "ome_rad=0\n",
    "ome_m=0.23\n",
    "ome_k=0\n",
    "ome_DE=0.73\n",
    "ome_0=1 \n",
    "ome_a=1 \n",
    "H_0=73.8 #km/sec/Mpc\n",
    "c = 299792 #km/sec"
   ]
  },
  {
   "cell_type": "code",
   "execution_count": 3,
   "metadata": {},
   "outputs": [],
   "source": [
    "def E_parameter(a):\n",
    "    return (np.sqrt(\n",
    "        ome_rad*a**-4 + ome_m*a**-3 + ome_k*a**-2 \n",
    "        + ome_DE*a**(-3*(1+ome_0 + ome_a))*np.exp(-3*ome_a*(1-a))))"
   ]
  },
  {
   "cell_type": "code",
   "execution_count": 4,
   "metadata": {},
   "outputs": [
    {
     "data": {
      "text/plain": [
       "0.43466658276484943"
      ]
     },
     "execution_count": 4,
     "metadata": {},
     "output_type": "execute_result"
    }
   ],
   "source": [
    "E_function = lambda z: 1/np.sqrt( ome_rad*(1+z)**4 + ome_m*(1+z)**3 + ome_k*(1+z)**2 \n",
    "                        + ome_DE*(1+z)**(3*(1+ome_0 + ome_a))*np.exp(-3*ome_a*(1-(1+z)**-1)))\n",
    "\n",
    "scipy.integrate.quad(E_function, 0, 2)[0]"
   ]
  },
  {
   "cell_type": "code",
   "execution_count": 5,
   "metadata": {},
   "outputs": [],
   "source": [
    "def angular_diameter(z1, z2):\n",
    "    integral = scipy.integrate.quad(E_function, z1, z2)[0]\n",
    "    distance = c*integral/((1+z2)*H_0)\n",
    "    return distance"
   ]
  },
  {
   "cell_type": "code",
   "execution_count": 6,
   "metadata": {},
   "outputs": [
    {
     "data": {
      "text/plain": [
       "71.0766703169403"
      ]
     },
     "execution_count": 6,
     "metadata": {},
     "output_type": "execute_result"
    }
   ],
   "source": [
    "angular_diameter(1,2)"
   ]
  },
  {
   "cell_type": "code",
   "execution_count": 9,
   "metadata": {},
   "outputs": [
    {
     "name": "stdout",
     "output_type": "stream",
     "text": [
      "0.9829370437318465 0.9784566461181562 0.8661798489433228 0.6641890974014634\n"
     ]
    }
   ],
   "source": [
    "#other system: https://iopscience.iop.org/article/10.1086/529541/pdf\n",
    "#possible values w_0 and w_a https://arxiv.org/pdf/1004.2774.pdf \n",
    "#and http://pdg.lbl.gov/2019/reviews/rpp2018-rev-dark-energy.pdf\n",
    "# Z = [lens, source 1, source 2]\n",
    "# theta = [theta, upper, lower]\n",
    "#System 1\n",
    "Z_1 = [0.04956, 0.694, 0.954]\n",
    "theta_11 = [2.74, 0.13, -1.56]\n",
    "theta_12 = [2.77, 0.19, -1.57]\n",
    "sigma_1 = [(theta_11[1] + theta_11[2])/2 , (theta_12[1] + theta_12[2])/2]\n",
    "Ds11 = angular_diameter(0, Z_1[1])\n",
    "Ds12 = angular_diameter(0, Z_1[2])\n",
    "Dls11 = angular_diameter(Z_1[0], Z_1[1])\n",
    "Dls12 = angular_diameter(Z_1[0], Z_1[2])\n",
    "beta_1_exp = theta_11[0]**2/theta_12[0]**2\n",
    "beta_1 = (Dls11*Ds12)/(Dls12*Ds11)\n",
    "#System 2\n",
    "Z_2 = [0.04865, 0.165, 0.264]\n",
    "theta_21 = [1.85, 0.06, -1.13]\n",
    "theta_22 = [2.27, 0.08, -1.50]\n",
    "sigma_2 = [(theta_21[1] + theta_21[2])/2 , (theta_22[1] + theta_22[2])/2]\n",
    "Ds21 = angular_diameter(0, Z_2[1])\n",
    "Ds22 = angular_diameter(0, Z_2[2])\n",
    "Dls21 = angular_diameter(Z_2[0], Z_2[1])\n",
    "Dls22 = angular_diameter(Z_2[0], Z_2[2])\n",
    "beta_2_exp = theta_21[0]**2/theta_22[0]**2\n",
    "beta_2 = (Dls21*Ds22)/(Dls22*Ds21)\n",
    "print(beta_1, beta_1_exp, beta_2, beta_2_exp)"
   ]
  },
  {
   "cell_type": "code",
   "execution_count": null,
   "metadata": {},
   "outputs": [],
   "source": []
  },
  {
   "cell_type": "code",
   "execution_count": null,
   "metadata": {},
   "outputs": [],
   "source": []
  }
 ],
 "metadata": {
  "kernelspec": {
   "display_name": "Python 3",
   "language": "python",
   "name": "python3"
  },
  "language_info": {
   "codemirror_mode": {
    "name": "ipython",
    "version": 3
   },
   "file_extension": ".py",
   "mimetype": "text/x-python",
   "name": "python",
   "nbconvert_exporter": "python",
   "pygments_lexer": "ipython3",
   "version": "3.7.3"
  }
 },
 "nbformat": 4,
 "nbformat_minor": 2
}
