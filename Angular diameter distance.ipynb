{
 "cells": [
  {
   "cell_type": "code",
   "execution_count": 1,
   "metadata": {},
   "outputs": [],
   "source": [
    "import numpy as np\n",
    "import scipy.integrate\n",
    "from matplotlib import pyplot as plt\n",
    "import scipy.integrate"
   ]
  },
  {
   "cell_type": "code",
   "execution_count": 2,
   "metadata": {},
   "outputs": [],
   "source": [
    "#Cosmology\n",
    "ome_rad=0\n",
    "ome_m=0.23\n",
    "ome_k=0\n",
    "ome_DE=0.73\n",
    "H_0=73.8 #km/sec/Mpc\n",
    "c = 299792 #km/sec\n",
    "ome_0=-0.9 \n",
    "ome_a=0.2 "
   ]
  },
  {
   "cell_type": "code",
   "execution_count": 3,
   "metadata": {},
   "outputs": [],
   "source": [
    "#System 1\n",
    "Z_1 = [0.04956, 0.694, 0.954]\n",
    "theta_11 = [2.74, 0.13, 1.56]\n",
    "theta_12 = [2.77, 0.19, 1.57]\n",
    "sigma_1 = [(theta_11[1] + theta_11[2])/2 , (theta_12[1] + theta_12[2])/2]\n",
    "sigma_s1 = 2*theta_11[0]*np.sqrt(sigma_1[0]**2\n",
    "                            + (theta_11[0]**2/theta_12[0]**2)*sigma_1[1]**2)/theta_12[0]**2\n",
    "beta_1_exp = theta_11[0]**2/theta_12[0]**2\n",
    "#Sytem 2\n",
    "Z_2 = [0.04865, 0.165, 0.264]\n",
    "theta_21 = [1.85, 0.06, 1.13]\n",
    "theta_22 = [2.27, 0.08, 1.50]\n",
    "sigma_2 = [(theta_21[1] + theta_21[2])/2 , (theta_22[1] + theta_22[2])/2]\n",
    "sigma_s2 = 2*theta_21[0]*np.sqrt(sigma_2[0]**2\n",
    "                            + (theta_21[0]**2/theta_22[0]**2)*sigma_2[1]**2)/theta_22[0]**2\n",
    "beta_2_exp = theta_21[0]**2/theta_22[0]**2"
   ]
  },
  {
   "cell_type": "code",
   "execution_count": 4,
   "metadata": {},
   "outputs": [],
   "source": [
    "#E_function = lambda z: 1/np.sqrt( ome_rad*(1+z)**4 + ome_m*(1+z)**3 + ome_k*(1+z)**2 \n",
    "                        #+ ome_DE*(1+z)**(3*(1+ome_0 + ome_a))*np.exp(-3*ome_a*(1-(1+z)**-1)))\n",
    "\n",
    "E_function = lambda z: 1/np.sqrt( ome_rad*(1+z)**4 + ome_m*(1+z)**3 + ome_k*(1+z)**2 \n",
    "                        + (1-ome_m)*(1+z)**(3*(1+ome_0 + ome_a))*np.exp(-3*ome_a*(1-(1+z)**-1)))"
   ]
  },
  {
   "cell_type": "code",
   "execution_count": 5,
   "metadata": {},
   "outputs": [],
   "source": [
    "def angular_diameter(z1, z2):\n",
    "    integral, e = scipy.integrate.quad(E_function, z1, z2)\n",
    "    distance = c*integral/((1+z2)*H_0)\n",
    "    return distance, e"
   ]
  },
  {
   "cell_type": "code",
   "execution_count": 8,
   "metadata": {},
   "outputs": [
    {
     "name": "stdout",
     "output_type": "stream",
     "text": [
      "1399.256850920687 6.47824547140883e-15\n",
      "1562.0141875757354 8.341729174267638e-15\n",
      "1281.7766526275475 5.934338495307928e-15\n",
      "1460.1659501609051 7.797822198166736e-15\n",
      "0.9799359085088294 0.9784566461181562 0.8647308839828731 0.6641890974014634\n"
     ]
    }
   ],
   "source": [
    "#other system: https://iopscience.iop.org/article/10.1086/529541/pdf\n",
    "#possible values w_0 and w_a https://arxiv.org/pdf/1004.2774.pdf \n",
    "#and http://pdg.lbl.gov/2019/reviews/rpp2018-rev-dark-energy.pdf\n",
    "# Z = [lens, source 1, source 2]\n",
    "# theta = [theta, upper, lower]\n",
    "#System 1\n",
    "Ds11, e = angular_diameter(0, Z_1[1])\n",
    "print(Ds11, e)\n",
    "Ds12, e = angular_diameter(0, Z_1[2])\n",
    "print(Ds12, e)\n",
    "Dls11, e = angular_diameter(Z_1[0], Z_1[1])\n",
    "print(Dls11, e)\n",
    "Dls12, e = angular_diameter(Z_1[0], Z_1[2])\n",
    "print(Dls12, e)\n",
    "D1 = [Ds11, Ds12, Dls11, Dls12]\n",
    "beta_1 = (Dls11*Ds12)/(Dls12*Ds11)\n",
    "#System 2\n",
    "Ds21, e = angular_diameter(0, Z_2[1])\n",
    "Ds22, e = angular_diameter(0, Z_2[2])\n",
    "Dls21, e = angular_diameter(Z_2[0], Z_2[1])\n",
    "Dls22, e = angular_diameter(Z_2[0], Z_2[2])\n",
    "D2 = [Ds21, Ds22, Dls21, Dls22]\n",
    "beta_2 = (Dls21*Ds22)/(Dls22*Ds21)\n",
    "print(beta_1, beta_1_exp, beta_2, beta_2_exp)\n"
   ]
  },
  {
   "cell_type": "code",
   "execution_count": 23,
   "metadata": {},
   "outputs": [],
   "source": [
    "def chi_squared(beta_1, beta_2):\n",
    "    chi = (beta_1_exp - beta_1)**2/sigma_s1 + (beta_2_exp - beta_2)**2/sigma_s2\n",
    "    return(chi)"
   ]
  },
  {
   "cell_type": "code",
   "execution_count": 24,
   "metadata": {},
   "outputs": [
    {
     "name": "stdout",
     "output_type": "stream",
     "text": [
      "0.06412994621336084\n"
     ]
    }
   ],
   "source": [
    "print(chi_squared(0.98067358727387, 0.8651000527098257))"
   ]
  },
  {
   "cell_type": "code",
   "execution_count": null,
   "metadata": {},
   "outputs": [],
   "source": []
  }
 ],
 "metadata": {
  "kernelspec": {
   "display_name": "Python 3",
   "language": "python",
   "name": "python3"
  },
  "language_info": {
   "codemirror_mode": {
    "name": "ipython",
    "version": 3
   },
   "file_extension": ".py",
   "mimetype": "text/x-python",
   "name": "python",
   "nbconvert_exporter": "python",
   "pygments_lexer": "ipython3",
   "version": "3.7.3"
  }
 },
 "nbformat": 4,
 "nbformat_minor": 2
}
