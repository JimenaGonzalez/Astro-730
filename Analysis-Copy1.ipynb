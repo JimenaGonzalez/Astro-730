{
 "cells": [
  {
   "cell_type": "code",
   "execution_count": 1,
   "metadata": {},
   "outputs": [],
   "source": [
    "import numpy as np\n",
    "import scipy.integrate\n",
    "from matplotlib import pyplot as plt\n",
    "import scipy.integrate\n",
    "import matplotlib.pyplot as plt\n",
    "from mpl_toolkits.mplot3d import Axes3D"
   ]
  },
  {
   "cell_type": "code",
   "execution_count": 2,
   "metadata": {},
   "outputs": [],
   "source": [
    "#Cosmology\n",
    "ome_rad, ome_m, ome_k, ome_DE, H_0, c = 0, 0.27, 0, 0.73, 73.8, 299792"
   ]
  },
  {
   "cell_type": "code",
   "execution_count": 3,
   "metadata": {},
   "outputs": [
    {
     "name": "stdout",
     "output_type": "stream",
     "text": [
      "0.9784566461181562 0.8664366942051004\n",
      "0.6641890974014634 0.6294841188940135\n"
     ]
    }
   ],
   "source": [
    "#System 1\n",
    "Z_1, theta_11, theta_12 = [0.04956, 0.694, 0.954], [2.74, 0.13, 1.56], [2.77, 0.19, 1.57]\n",
    "sigma_1 = [(theta_11[1] + theta_11[2])/2 , (theta_12[1] + theta_12[2])/2]\n",
    "sigma_s1 = 2*theta_11[0]*np.sqrt(sigma_1[0]**2\n",
    "                            + (theta_11[0]**2/theta_12[0]**2)*sigma_1[1]**2)/theta_12[0]**2\n",
    "beta_1_exp = theta_11[0]**2/theta_12[0]**2\n",
    "print(beta_1_exp, sigma_s1)\n",
    "#Sytem 2\n",
    "Z_2, theta_21, theta_22 = [0.04865, 0.165, 0.264], [1.85, 0.06, 1.13], [2.27, 0.08, 1.50]\n",
    "sigma_2 = [(theta_21[1] + theta_21[2])/2 , (theta_22[1] + theta_22[2])/2]\n",
    "sigma_s2 = 2*theta_21[0]*np.sqrt(sigma_2[0]**2\n",
    "                            + (theta_21[0]**2/theta_22[0]**2)*sigma_2[1]**2)/theta_22[0]**2\n",
    "beta_2_exp = theta_21[0]**2/theta_22[0]**2\n",
    "print(beta_2_exp, sigma_s2)"
   ]
  },
  {
   "cell_type": "code",
   "execution_count": 4,
   "metadata": {},
   "outputs": [],
   "source": [
    "E_function = lambda z: 1/np.sqrt( ome_rad*(1+z)**4 + ome_m*(1+z)**3 + ome_k*(1+z)**2 \n",
    "                    + (1-ome_m)*(1+z)**(3*(1+ome_0 + ome_a))*np.exp(-3*ome_a*(1-(1+z)**-1)))\n",
    "\n",
    "def angular_diameter(z1, z2):\n",
    "    integral = scipy.integrate.quad(E_function, z1, z2)[0]\n",
    "    distance = c*integral/((1+z2)*H_0)\n",
    "    return distance\n",
    "\n",
    "def chi_squared(beta_1, beta_2):\n",
    "    chi = (beta_1_exp - beta_1)**2/sigma_s1**2 + (beta_2_exp - beta_2)**2/sigma_s2**2\n",
    "    return(chi)"
   ]
  },
  {
   "cell_type": "code",
   "execution_count": 5,
   "metadata": {
    "scrolled": true
   },
   "outputs": [
    {
     "name": "stdout",
     "output_type": "stream",
     "text": [
      "0.04956 0.694 0.954\n",
      "1432.7723827094912 1604.995629539381 1315.110461789353 1502.9898495809803 0.980173230790648\n",
      "0.10139491552754204\n"
     ]
    }
   ],
   "source": [
    "ome_0=-1\n",
    "ome_a=-0.5\n",
    "#System 1\n",
    "Ds11, Ds12 = angular_diameter(0, Z_1[1]), angular_diameter(0, Z_1[2])\n",
    "Dls11, Dls12 = angular_diameter(Z_1[0], Z_1[1]), angular_diameter(Z_1[0], Z_1[2])\n",
    "print(Z_1[0], Z_1[1], Z_1[2])\n",
    "beta_1 = (Dls11*Ds12)/(Dls12*Ds11)\n",
    "print(Ds11, Ds12, Dls11, Dls12, beta_1)\n",
    "#System 2\n",
    "Ds21, Ds22 = angular_diameter(0, Z_2[1]), angular_diameter(0, Z_2[2])\n",
    "Dls21, Dls22 = angular_diameter(Z_2[0], Z_2[1]), angular_diameter(Z_2[0], Z_2[2])\n",
    "beta_2 = (Dls21*Ds22)/(Dls22*Ds21)\n",
    "print(chi_squared(beta_1, beta_2))"
   ]
  },
  {
   "cell_type": "code",
   "execution_count": 6,
   "metadata": {},
   "outputs": [],
   "source": [
    "ome_0_values = np.linspace(-1.5, 0, 30)\n",
    "ome_a_values = np.linspace(-2, 1.5, 30)  \n",
    "chi_squared_values = np.zeros((len(ome_a_values),len(ome_0_values)))\n",
    "for i in range(len(ome_a_values)):\n",
    "    ome_a = ome_a_values[i]\n",
    "    for j in range(len(ome_0_values)):\n",
    "        ome_0 = ome_0_values[j]\n",
    "        #System 1\n",
    "        Ds11, Ds12 = angular_diameter(0, Z_1[1]), angular_diameter(0, Z_1[2])\n",
    "        Dls11, Dls12 = angular_diameter(Z_1[0], Z_1[1]), angular_diameter(Z_1[0], Z_1[2])\n",
    "        beta_1 = (Dls11*Ds12)/(Dls12*Ds11)\n",
    "        #System 2\n",
    "        Ds21, Ds22 = angular_diameter(0, Z_2[1]), angular_diameter(0, Z_2[2])\n",
    "        Dls21, Dls22 = angular_diameter(Z_2[0], Z_2[1]), angular_diameter(Z_2[0], Z_2[2])\n",
    "        beta_2 = (Dls21*Ds22)/(Dls22*Ds21)\n",
    "        chi_squared_values[i,j] = chi_squared(beta_1, beta_2)    "
   ]
  },
  {
   "cell_type": "code",
   "execution_count": 7,
   "metadata": {
    "scrolled": true
   },
   "outputs": [
    {
     "data": {
      "image/png": "[encoded data removed]",
      "text/plain": [
       "<Figure size 360x360 with 2 Axes>"
      ]
     },
     "metadata": {
      "needs_background": "light"
     },
     "output_type": "display_data"
    }
   ],
   "source": [
    "xmesh,ymesh=np.meshgrid(ome_0_values,ome_a_values)\n",
    "plt.figure(figsize=(5,5))\n",
    "plt.pcolormesh(xmesh, ymesh, chi_squared_values, cmap='gist_rainbow')\n",
    "plt.title(u'$\\chi^2$')\n",
    "plt.xlabel(u'$\\omega_0$')\n",
    "plt.ylabel(u'$\\omega_a$')\n",
    "plt.colorbar()\n",
    "plt.show()"
   ]
  },
  {
   "cell_type": "code",
   "execution_count": 8,
   "metadata": {},
   "outputs": [
    {
     "name": "stdout",
     "output_type": "stream",
     "text": [
      "0.9784566461181562 0.1632108232199219\n",
      "0.6641890974014634 0.06362199004256905\n"
     ]
    },
    {
     "data": {
      "image/png": "[encoded data removed]",
      "text/plain": [
       "<Figure size 360x360 with 2 Axes>"
      ]
     },
     "metadata": {
      "needs_background": "light"
     },
     "output_type": "display_data"
    }
   ],
   "source": [
    "#Only using the smaller limit\n",
    "#System 1\n",
    "Z_1, theta_11, theta_12 = [0.04956, 0.694, 0.954], [2.74, 0.13, 0.13], [2.77, 0.19, 0.19]\n",
    "sigma_1 = [(theta_11[1] + theta_11[2])/2 , (theta_12[1] + theta_12[2])/2]\n",
    "sigma_s1 = 2*theta_11[0]*np.sqrt(sigma_1[0]**2\n",
    "                            + (theta_11[0]**2/theta_12[0]**2)*sigma_1[1]**2)/theta_12[0]**2\n",
    "beta_1_exp = theta_11[0]**2/theta_12[0]**2\n",
    "print(beta_1_exp, sigma_s1)\n",
    "#Sytem 2\n",
    "Z_2, theta_21, theta_22 = [0.04865, 0.165, 0.264], [1.85, 0.06, 0.06], [2.27, 0.08, 0.08]\n",
    "sigma_2 = [(theta_21[1] + theta_21[2])/2 , (theta_22[1] + theta_22[2])/2]\n",
    "sigma_s2 = 2*theta_21[0]*np.sqrt(sigma_2[0]**2\n",
    "                            + (theta_21[0]**2/theta_22[0]**2)*sigma_2[1]**2)/theta_22[0]**2\n",
    "beta_2_exp = theta_21[0]**2/theta_22[0]**2\n",
    "print(beta_2_exp, sigma_s2)\n",
    "\n",
    "ome_0_values = np.linspace(-1.5, 0, 30)\n",
    "ome_a_values = np.linspace(-2, 1.5, 30)  \n",
    "chi_squared_values = np.zeros((len(ome_a_values),len(ome_0_values)))\n",
    "for i in range(len(ome_a_values)):\n",
    "    ome_a = ome_a_values[i]\n",
    "    for j in range(len(ome_0_values)):\n",
    "        ome_0 = ome_0_values[j]\n",
    "        #System 1\n",
    "        Ds11, Ds12 = angular_diameter(0, Z_1[1]), angular_diameter(0, Z_1[2])\n",
    "        Dls11, Dls12 = angular_diameter(Z_1[0], Z_1[1]), angular_diameter(Z_1[0], Z_1[2])\n",
    "        beta_1 = (Dls11*Ds12)/(Dls12*Ds11)\n",
    "        #System 2\n",
    "        Ds21, Ds22 = angular_diameter(0, Z_2[1]), angular_diameter(0, Z_2[2])\n",
    "        Dls21, Dls22 = angular_diameter(Z_2[0], Z_2[1]), angular_diameter(Z_2[0], Z_2[2])\n",
    "        beta_2 = (Dls21*Ds22)/(Dls22*Ds21)\n",
    "        chi_squared_values[i,j] = chi_squared(beta_1, beta_2)  \n",
    "xmesh,ymesh=np.meshgrid(ome_0_values,ome_a_values)\n",
    "plt.figure(figsize=(5,5))\n",
    "plt.pcolormesh(xmesh, ymesh, chi_squared_values, cmap='gist_rainbow')\n",
    "plt.title(u'$\\chi^2$')\n",
    "plt.xlabel(u'$\\omega_0$')\n",
    "plt.ylabel(u'$\\omega_a$')\n",
    "plt.colorbar()\n",
    "plt.show()"
   ]
  },
  {
   "cell_type": "code",
   "execution_count": 9,
   "metadata": {},
   "outputs": [
    {
     "name": "stdout",
     "output_type": "stream",
     "text": [
      "0.9784566461181562 0.020091588977721928\n",
      "0.6641890974014634 0.018525986429517083\n"
     ]
    },
    {
     "data": {
      "image/png": "[encoded data removed]",
      "text/plain": [
       "<Figure size 360x360 with 2 Axes>"
      ]
     },
     "metadata": {
      "needs_background": "light"
     },
     "output_type": "display_data"
    }
   ],
   "source": [
    "#reducing the uncertainty of each Einstein radius\n",
    "#System 1\n",
    "Z_1, theta_11, theta_12 = [0.04956, 0.694, 0.954], [2.74, 0.02, 0.02], [2.77, 0.02, 0.02]\n",
    "sigma_1 = [(theta_11[1] + theta_11[2])/2 , (theta_12[1] + theta_12[2])/2]\n",
    "sigma_s1 = 2*theta_11[0]*np.sqrt(sigma_1[0]**2\n",
    "                            + (theta_11[0]**2/theta_12[0]**2)*sigma_1[1]**2)/theta_12[0]**2\n",
    "beta_1_exp = theta_11[0]**2/theta_12[0]**2\n",
    "print(beta_1_exp, sigma_s1)\n",
    "#Sytem 2\n",
    "Z_2, theta_21, theta_22 = [0.04865, 0.165, 0.264], [1.85, 0.02, 0.02], [2.27, 0.02, 0.02]\n",
    "sigma_2 = [(theta_21[1] + theta_21[2])/2 , (theta_22[1] + theta_22[2])/2]\n",
    "sigma_s2 = 2*theta_21[0]*np.sqrt(sigma_2[0]**2\n",
    "                            + (theta_21[0]**2/theta_22[0]**2)*sigma_2[1]**2)/theta_22[0]**2\n",
    "beta_2_exp = theta_21[0]**2/theta_22[0]**2\n",
    "print(beta_2_exp, sigma_s2)\n",
    "\n",
    "ome_0_values = np.linspace(-1.5, 0, 30)\n",
    "ome_a_values = np.linspace(-2, 1.5, 30)  \n",
    "chi_squared_values = np.zeros((len(ome_a_values),len(ome_0_values)))\n",
    "for i in range(len(ome_a_values)):\n",
    "    ome_a = ome_a_values[i]\n",
    "    for j in range(len(ome_0_values)):\n",
    "        ome_0 = ome_0_values[j]\n",
    "        #System 1\n",
    "        Ds11, Ds12 = angular_diameter(0, Z_1[1]), angular_diameter(0, Z_1[2])\n",
    "        Dls11, Dls12 = angular_diameter(Z_1[0], Z_1[1]), angular_diameter(Z_1[0], Z_1[2])\n",
    "        beta_1 = (Dls11*Ds12)/(Dls12*Ds11)\n",
    "        #System 2\n",
    "        Ds21, Ds22 = angular_diameter(0, Z_2[1]), angular_diameter(0, Z_2[2])\n",
    "        Dls21, Dls22 = angular_diameter(Z_2[0], Z_2[1]), angular_diameter(Z_2[0], Z_2[2])\n",
    "        beta_2 = (Dls21*Ds22)/(Dls22*Ds21)\n",
    "        chi_squared_values[i,j] = chi_squared(beta_1, beta_2)  \n",
    "xmesh,ymesh=np.meshgrid(ome_0_values,ome_a_values)\n",
    "plt.figure(figsize=(5,5))\n",
    "plt.pcolormesh(xmesh, ymesh, chi_squared_values, cmap='gist_rainbow')\n",
    "plt.title(u'$\\chi^2$')\n",
    "plt.xlabel(u'$\\omega_0$')\n",
    "plt.ylabel(u'$\\omega_a$')\n",
    "plt.colorbar()\n",
    "plt.show()"
   ]
  },
  {
   "cell_type": "code",
   "execution_count": 10,
   "metadata": {},
   "outputs": [
    {
     "name": "stdout",
     "output_type": "stream",
     "text": [
      "0.7395999999999999 0.22685750241065425\n",
      "0.7395999999999999 0.22685750241065425\n"
     ]
    },
    {
     "data": {
      "image/png": "[encoded data removed]",
      "text/plain": [
       "<Figure size 360x360 with 2 Axes>"
      ]
     },
     "metadata": {
      "needs_background": "light"
     },
     "output_type": "display_data"
    }
   ],
   "source": [
    "#using the best distribution of redshifts: z1 = 2z, z2=1.5 z1, and using a value of theta that\n",
    "# produce the predicted beta\n",
    "#System 1\n",
    "Z_1, theta_11, theta_12 = [0.04956, 0.09912, 0.14868], [0.86, 0.1, 0.1], [1, 0.1, 0.1]\n",
    "sigma_1 = [(theta_11[1] + theta_11[2])/2 , (theta_12[1] + theta_12[2])/2]\n",
    "sigma_s1 = 2*theta_11[0]*np.sqrt(sigma_1[0]**2\n",
    "                            + (theta_11[0]**2/theta_12[0]**2)*sigma_1[1]**2)/theta_12[0]**2\n",
    "beta_1_exp = theta_11[0]**2/theta_12[0]**2\n",
    "print(beta_1_exp, sigma_s1)\n",
    "#Sytem 2\n",
    "Z_2, theta_21, theta_22 = [0.04865, 0.0973, 0.14595], [0.86, 0.1, 0.1], [1, 0.1, 0.1]\n",
    "sigma_2 = [(theta_21[1] + theta_21[2])/2 , (theta_22[1] + theta_22[2])/2]\n",
    "sigma_s2 = 2*theta_21[0]*np.sqrt(sigma_2[0]**2\n",
    "                            + (theta_21[0]**2/theta_22[0]**2)*sigma_2[1]**2)/theta_22[0]**2\n",
    "beta_2_exp = theta_21[0]**2/theta_22[0]**2\n",
    "print(beta_2_exp, sigma_s2)\n",
    "\n",
    "ome_0_values = np.linspace(-1.5, 0, 30)\n",
    "ome_a_values = np.linspace(-2, 1.5, 30)  \n",
    "chi_squared_values = np.zeros((len(ome_a_values),len(ome_0_values)))\n",
    "for i in range(len(ome_a_values)):\n",
    "    ome_a = ome_a_values[i]\n",
    "    for j in range(len(ome_0_values)):\n",
    "        ome_0 = ome_0_values[j]\n",
    "        #System 1\n",
    "        Ds11, Ds12 = angular_diameter(0, Z_1[1]), angular_diameter(0, Z_1[2])\n",
    "        Dls11, Dls12 = angular_diameter(Z_1[0], Z_1[1]), angular_diameter(Z_1[0], Z_1[2])\n",
    "        beta_1 = (Dls11*Ds12)/(Dls12*Ds11)\n",
    "        #System 2\n",
    "        Ds21, Ds22 = angular_diameter(0, Z_2[1]), angular_diameter(0, Z_2[2])\n",
    "        Dls21, Dls22 = angular_diameter(Z_2[0], Z_2[1]), angular_diameter(Z_2[0], Z_2[2])\n",
    "        beta_2 = (Dls21*Ds22)/(Dls22*Ds21)\n",
    "        chi_squared_values[i,j] = chi_squared(beta_1, beta_2)  \n",
    "xmesh,ymesh=np.meshgrid(ome_0_values,ome_a_values)\n",
    "plt.figure(figsize=(5,5))\n",
    "plt.pcolormesh(xmesh, ymesh, chi_squared_values, cmap='gist_rainbow')\n",
    "plt.title(u'$\\chi^2$')\n",
    "plt.xlabel(u'$\\omega_0$')\n",
    "plt.ylabel(u'$\\omega_a$')\n",
    "plt.colorbar()\n",
    "plt.show()"
   ]
  },
  {
   "cell_type": "code",
   "execution_count": 13,
   "metadata": {},
   "outputs": [
    {
     "name": "stdout",
     "output_type": "stream",
     "text": [
      "0.749956 0.02291191831284321\n",
      "0.749956 0.02291191831284321\n"
     ]
    },
    {
     "data": {
      "image/png": "[encoded data removed]",
      "text/plain": [
       "<Figure size 360x360 with 2 Axes>"
      ]
     },
     "metadata": {
      "needs_background": "light"
     },
     "output_type": "display_data"
    }
   ],
   "source": [
    "#using the best distribution of redshifts: z1 = 2z, z2=1.5 z1, and using a value of theta that\n",
    "# produce the predicted beta\n",
    "#System 1\n",
    "Z_1, theta_11, theta_12 = [0.04956, 0.09912, 0.14868], [0.866, 0.01, 0.01], [1, 0.01, 0.01]\n",
    "sigma_1 = [(theta_11[1] + theta_11[2])/2 , (theta_12[1] + theta_12[2])/2]\n",
    "sigma_s1 = 2*theta_11[0]*np.sqrt(sigma_1[0]**2\n",
    "                            + (theta_11[0]**2/theta_12[0]**2)*sigma_1[1]**2)/theta_12[0]**2\n",
    "beta_1_exp = theta_11[0]**2/theta_12[0]**2\n",
    "print(beta_1_exp, sigma_s1)\n",
    "#Sytem 2\n",
    "Z_2, theta_21, theta_22 = [0.04865, 0.0973, 0.14595], [0.866, 0.01, 0.01], [1, 0.01, 0.01]\n",
    "sigma_2 = [(theta_21[1] + theta_21[2])/2 , (theta_22[1] + theta_22[2])/2]\n",
    "sigma_s2 = 2*theta_21[0]*np.sqrt(sigma_2[0]**2\n",
    "                            + (theta_21[0]**2/theta_22[0]**2)*sigma_2[1]**2)/theta_22[0]**2\n",
    "beta_2_exp = theta_21[0]**2/theta_22[0]**2\n",
    "print(beta_2_exp, sigma_s2)\n",
    "\n",
    "ome_0_values = np.linspace(-1.5, 0, 30)\n",
    "ome_a_values = np.linspace(-2, 1.5, 30)  \n",
    "chi_squared_values = np.zeros((len(ome_a_values),len(ome_0_values)))\n",
    "for i in range(len(ome_a_values)):\n",
    "    ome_a = ome_a_values[i]\n",
    "    for j in range(len(ome_0_values)):\n",
    "        ome_0 = ome_0_values[j]\n",
    "        #System 1\n",
    "        Ds11, Ds12 = angular_diameter(0, Z_1[1]), angular_diameter(0, Z_1[2])\n",
    "        Dls11, Dls12 = angular_diameter(Z_1[0], Z_1[1]), angular_diameter(Z_1[0], Z_1[2])\n",
    "        beta_1 = (Dls11*Ds12)/(Dls12*Ds11)\n",
    "        #System 2\n",
    "        Ds21, Ds22 = angular_diameter(0, Z_2[1]), angular_diameter(0, Z_2[2])\n",
    "        Dls21, Dls22 = angular_diameter(Z_2[0], Z_2[1]), angular_diameter(Z_2[0], Z_2[2])\n",
    "        beta_2 = (Dls21*Ds22)/(Dls22*Ds21)\n",
    "        chi_squared_values[i,j] = chi_squared(beta_1, beta_2)  \n",
    "xmesh,ymesh=np.meshgrid(ome_0_values,ome_a_values)\n",
    "plt.figure(figsize=(5,5))\n",
    "plt.pcolormesh(xmesh, ymesh, chi_squared_values, cmap='gist_rainbow')\n",
    "plt.title(u'$\\chi^2$')\n",
    "plt.xlabel(u'$\\omega_0$')\n",
    "plt.ylabel(u'$\\omega_a$')\n",
    "plt.colorbar()\n",
    "plt.show()"
   ]
  },
  {
   "cell_type": "code",
   "execution_count": 16,
   "metadata": {},
   "outputs": [
    {
     "name": "stdout",
     "output_type": "stream",
     "text": [
      "0.749956 0.4582383662568642\n",
      "0.749956 0.4582383662568642\n"
     ]
    },
    {
     "data": {
      "image/png": "[encoded data removed]",
      "text/plain": [
       "<Figure size 360x360 with 2 Axes>"
      ]
     },
     "metadata": {
      "needs_background": "light"
     },
     "output_type": "display_data"
    }
   ],
   "source": [
    "#using the best distribution of redshifts: z1 = 2z, z2=1.5 z1, and using a value of theta that\n",
    "# produce the predicted beta\n",
    "#System 1\n",
    "Z_1, theta_11, theta_12 = [0.04956, 0.09912, 0.14868], [0.866, 0.2, 0.2], [1, 0.2, 0.2]\n",
    "sigma_1 = [(theta_11[1] + theta_11[2])/2 , (theta_12[1] + theta_12[2])/2]\n",
    "sigma_s1 = 2*theta_11[0]*np.sqrt(sigma_1[0]**2\n",
    "                            + (theta_11[0]**2/theta_12[0]**2)*sigma_1[1]**2)/theta_12[0]**2\n",
    "beta_1_exp = theta_11[0]**2/theta_12[0]**2\n",
    "print(beta_1_exp, sigma_s1)\n",
    "#Sytem 2\n",
    "Z_2, theta_21, theta_22 = [0.04865, 0.0973, 0.14595], [0.866, 0.2, 0.2], [1, 0.2, 0.2]\n",
    "sigma_2 = [(theta_21[1] + theta_21[2])/2 , (theta_22[1] + theta_22[2])/2]\n",
    "sigma_s2 = 2*theta_21[0]*np.sqrt(sigma_2[0]**2\n",
    "                            + (theta_21[0]**2/theta_22[0]**2)*sigma_2[1]**2)/theta_22[0]**2\n",
    "beta_2_exp = theta_21[0]**2/theta_22[0]**2\n",
    "print(beta_2_exp, sigma_s2)\n",
    "\n",
    "ome_0_values = np.linspace(-1.5, 0, 30)\n",
    "ome_a_values = np.linspace(-2, 1.5, 30)  \n",
    "chi_squared_values = np.zeros((len(ome_a_values),len(ome_0_values)))\n",
    "for i in range(len(ome_a_values)):\n",
    "    ome_a = ome_a_values[i]\n",
    "    for j in range(len(ome_0_values)):\n",
    "        ome_0 = ome_0_values[j]\n",
    "        #System 1\n",
    "        Ds11, Ds12 = angular_diameter(0, Z_1[1]), angular_diameter(0, Z_1[2])\n",
    "        Dls11, Dls12 = angular_diameter(Z_1[0], Z_1[1]), angular_diameter(Z_1[0], Z_1[2])\n",
    "        beta_1 = (Dls11*Ds12)/(Dls12*Ds11)\n",
    "        #System 2\n",
    "        Ds21, Ds22 = angular_diameter(0, Z_2[1]), angular_diameter(0, Z_2[2])\n",
    "        Dls21, Dls22 = angular_diameter(Z_2[0], Z_2[1]), angular_diameter(Z_2[0], Z_2[2])\n",
    "        beta_2 = (Dls21*Ds22)/(Dls22*Ds21)\n",
    "        chi_squared_values[i,j] = chi_squared(beta_1, beta_2)  \n",
    "xmesh,ymesh=np.meshgrid(ome_0_values,ome_a_values)\n",
    "plt.figure(figsize=(5,5))\n",
    "plt.pcolormesh(xmesh, ymesh, chi_squared_values, cmap='gist_rainbow')\n",
    "plt.title(u'$\\chi^2$')\n",
    "plt.xlabel(u'$\\omega_0$')\n",
    "plt.ylabel(u'$\\omega_a$')\n",
    "plt.colorbar()\n",
    "plt.show()"
   ]
  },
  {
   "cell_type": "code",
   "execution_count": null,
   "metadata": {},
   "outputs": [],
   "source": []
  }
 ],
 "metadata": {
  "kernelspec": {
   "display_name": "Python 3",
   "language": "python",
   "name": "python3"
  },
  "language_info": {
   "codemirror_mode": {
    "name": "ipython",
    "version": 3
   },
   "file_extension": ".py",
   "mimetype": "text/x-python",
   "name": "python",
   "nbconvert_exporter": "python",
   "pygments_lexer": "ipython3",
   "version": "3.7.3"
  }
 },
 "nbformat": 4,
 "nbformat_minor": 2
}
